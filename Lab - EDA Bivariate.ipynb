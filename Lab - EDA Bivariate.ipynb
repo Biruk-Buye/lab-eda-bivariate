{
 "cells": [
  {
   "cell_type": "markdown",
   "id": "bf785be7-862f-43be-9c82-9cbcc3acff55",
   "metadata": {},
   "source": [
    "# Lab - EDA Bivariate Analysis: Diving into Amazon UK Product Insights Part II\n",
    "Objective: Delve into the dynamics of product pricing on Amazon UK to uncover insights that can inform business strategies and decision-making.\n",
    "\n",
    "Dataset: This lab utilizes the Amazon UK product dataset which provides information on product categories, brands, prices, ratings, and more from from Amazon UK. You'll need to download it to start working with it.\n",
    "\n"
   ]
  },
  {
   "cell_type": "code",
   "execution_count": 30,
   "id": "871319dc-c1a2-414e-b960-29fccc519ead",
   "metadata": {},
   "outputs": [],
   "source": [
    "import pandas as pd\n",
    "import seaborn as sns\n",
    "import matplotlib.pyplot as plt\n",
    "import sklearn.feature_selection as chi2\n",
    "import warnings\n",
    "warnings.filterwarnings('ignore')"
   ]
  },
  {
   "cell_type": "code",
   "execution_count": 32,
   "id": "3595b529-8f14-444d-9938-802304582ad4",
   "metadata": {},
   "outputs": [],
   "source": [
    "df = pd.read_csv ('/Users/biruk/Documents/Ironhack/lab-eda-bivariate/amz_uk_price_prediction_dataset.csv', index_col='uid')"
   ]
  },
  {
   "cell_type": "code",
   "execution_count": 33,
   "id": "82509d4d-6ac0-4310-b050-0774ebc9dce2",
   "metadata": {},
   "outputs": [
    {
     "data": {
      "text/html": [
       "<div>\n",
       "<style scoped>\n",
       "    .dataframe tbody tr th:only-of-type {\n",
       "        vertical-align: middle;\n",
       "    }\n",
       "\n",
       "    .dataframe tbody tr th {\n",
       "        vertical-align: top;\n",
       "    }\n",
       "\n",
       "    .dataframe thead th {\n",
       "        text-align: right;\n",
       "    }\n",
       "</style>\n",
       "<table border=\"1\" class=\"dataframe\">\n",
       "  <thead>\n",
       "    <tr style=\"text-align: right;\">\n",
       "      <th></th>\n",
       "      <th>asin</th>\n",
       "      <th>title</th>\n",
       "      <th>stars</th>\n",
       "      <th>reviews</th>\n",
       "      <th>price</th>\n",
       "      <th>isBestSeller</th>\n",
       "      <th>boughtInLastMonth</th>\n",
       "      <th>category</th>\n",
       "    </tr>\n",
       "    <tr>\n",
       "      <th>uid</th>\n",
       "      <th></th>\n",
       "      <th></th>\n",
       "      <th></th>\n",
       "      <th></th>\n",
       "      <th></th>\n",
       "      <th></th>\n",
       "      <th></th>\n",
       "      <th></th>\n",
       "    </tr>\n",
       "  </thead>\n",
       "  <tbody>\n",
       "    <tr>\n",
       "      <th>1</th>\n",
       "      <td>B09B96TG33</td>\n",
       "      <td>Echo Dot (5th generation, 2022 release) | Big ...</td>\n",
       "      <td>4.7</td>\n",
       "      <td>15308</td>\n",
       "      <td>21.99</td>\n",
       "      <td>False</td>\n",
       "      <td>0</td>\n",
       "      <td>Hi-Fi Speakers</td>\n",
       "    </tr>\n",
       "    <tr>\n",
       "      <th>2</th>\n",
       "      <td>B01HTH3C8S</td>\n",
       "      <td>Anker Soundcore mini, Super-Portable Bluetooth...</td>\n",
       "      <td>4.7</td>\n",
       "      <td>98099</td>\n",
       "      <td>23.99</td>\n",
       "      <td>True</td>\n",
       "      <td>0</td>\n",
       "      <td>Hi-Fi Speakers</td>\n",
       "    </tr>\n",
       "    <tr>\n",
       "      <th>3</th>\n",
       "      <td>B09B8YWXDF</td>\n",
       "      <td>Echo Dot (5th generation, 2022 release) | Big ...</td>\n",
       "      <td>4.7</td>\n",
       "      <td>15308</td>\n",
       "      <td>21.99</td>\n",
       "      <td>False</td>\n",
       "      <td>0</td>\n",
       "      <td>Hi-Fi Speakers</td>\n",
       "    </tr>\n",
       "    <tr>\n",
       "      <th>4</th>\n",
       "      <td>B09B8T5VGV</td>\n",
       "      <td>Echo Dot with clock (5th generation, 2022 rele...</td>\n",
       "      <td>4.7</td>\n",
       "      <td>7205</td>\n",
       "      <td>31.99</td>\n",
       "      <td>False</td>\n",
       "      <td>0</td>\n",
       "      <td>Hi-Fi Speakers</td>\n",
       "    </tr>\n",
       "    <tr>\n",
       "      <th>5</th>\n",
       "      <td>B09WX6QD65</td>\n",
       "      <td>Introducing Echo Pop | Full sound compact Wi-F...</td>\n",
       "      <td>4.6</td>\n",
       "      <td>1881</td>\n",
       "      <td>17.99</td>\n",
       "      <td>False</td>\n",
       "      <td>0</td>\n",
       "      <td>Hi-Fi Speakers</td>\n",
       "    </tr>\n",
       "    <tr>\n",
       "      <th>...</th>\n",
       "      <td>...</td>\n",
       "      <td>...</td>\n",
       "      <td>...</td>\n",
       "      <td>...</td>\n",
       "      <td>...</td>\n",
       "      <td>...</td>\n",
       "      <td>...</td>\n",
       "      <td>...</td>\n",
       "    </tr>\n",
       "    <tr>\n",
       "      <th>2828589</th>\n",
       "      <td>B0CHSD7P2Q</td>\n",
       "      <td>Motorbike Armour, Motorbike Clothing, Cycling ...</td>\n",
       "      <td>0.0</td>\n",
       "      <td>0</td>\n",
       "      <td>22.34</td>\n",
       "      <td>False</td>\n",
       "      <td>0</td>\n",
       "      <td>Motorbike Clothing</td>\n",
       "    </tr>\n",
       "    <tr>\n",
       "      <th>2828590</th>\n",
       "      <td>B0B7B8FNBQ</td>\n",
       "      <td>PROFIRST Waterproof Motorcycle 2 Piece Ladies ...</td>\n",
       "      <td>0.0</td>\n",
       "      <td>0</td>\n",
       "      <td>97.99</td>\n",
       "      <td>False</td>\n",
       "      <td>0</td>\n",
       "      <td>Motorbike Clothing</td>\n",
       "    </tr>\n",
       "    <tr>\n",
       "      <th>2828591</th>\n",
       "      <td>B0BD5FL5FB</td>\n",
       "      <td>Men’s Motorcycle Motorbike Biker Trousers Kevl...</td>\n",
       "      <td>0.0</td>\n",
       "      <td>0</td>\n",
       "      <td>52.99</td>\n",
       "      <td>False</td>\n",
       "      <td>0</td>\n",
       "      <td>Motorbike Clothing</td>\n",
       "    </tr>\n",
       "    <tr>\n",
       "      <th>2828592</th>\n",
       "      <td>B008OYLL4I</td>\n",
       "      <td>Texpeed Mens Motorcycle Motorbike Biker Trouse...</td>\n",
       "      <td>4.3</td>\n",
       "      <td>404</td>\n",
       "      <td>79.99</td>\n",
       "      <td>False</td>\n",
       "      <td>0</td>\n",
       "      <td>Motorbike Clothing</td>\n",
       "    </tr>\n",
       "    <tr>\n",
       "      <th>2828593</th>\n",
       "      <td>B08P3W9B3T</td>\n",
       "      <td>RIDEX CJ223 Motorcycle Motorbike Jacket Armour...</td>\n",
       "      <td>4.5</td>\n",
       "      <td>34</td>\n",
       "      <td>53.99</td>\n",
       "      <td>False</td>\n",
       "      <td>0</td>\n",
       "      <td>Motorbike Clothing</td>\n",
       "    </tr>\n",
       "  </tbody>\n",
       "</table>\n",
       "<p>2443651 rows × 8 columns</p>\n",
       "</div>"
      ],
      "text/plain": [
       "               asin                                              title  stars  \\\n",
       "uid                                                                             \n",
       "1        B09B96TG33  Echo Dot (5th generation, 2022 release) | Big ...    4.7   \n",
       "2        B01HTH3C8S  Anker Soundcore mini, Super-Portable Bluetooth...    4.7   \n",
       "3        B09B8YWXDF  Echo Dot (5th generation, 2022 release) | Big ...    4.7   \n",
       "4        B09B8T5VGV  Echo Dot with clock (5th generation, 2022 rele...    4.7   \n",
       "5        B09WX6QD65  Introducing Echo Pop | Full sound compact Wi-F...    4.6   \n",
       "...             ...                                                ...    ...   \n",
       "2828589  B0CHSD7P2Q  Motorbike Armour, Motorbike Clothing, Cycling ...    0.0   \n",
       "2828590  B0B7B8FNBQ  PROFIRST Waterproof Motorcycle 2 Piece Ladies ...    0.0   \n",
       "2828591  B0BD5FL5FB  Men’s Motorcycle Motorbike Biker Trousers Kevl...    0.0   \n",
       "2828592  B008OYLL4I  Texpeed Mens Motorcycle Motorbike Biker Trouse...    4.3   \n",
       "2828593  B08P3W9B3T  RIDEX CJ223 Motorcycle Motorbike Jacket Armour...    4.5   \n",
       "\n",
       "         reviews  price  isBestSeller  boughtInLastMonth            category  \n",
       "uid                                                                           \n",
       "1          15308  21.99         False                  0      Hi-Fi Speakers  \n",
       "2          98099  23.99          True                  0      Hi-Fi Speakers  \n",
       "3          15308  21.99         False                  0      Hi-Fi Speakers  \n",
       "4           7205  31.99         False                  0      Hi-Fi Speakers  \n",
       "5           1881  17.99         False                  0      Hi-Fi Speakers  \n",
       "...          ...    ...           ...                ...                 ...  \n",
       "2828589        0  22.34         False                  0  Motorbike Clothing  \n",
       "2828590        0  97.99         False                  0  Motorbike Clothing  \n",
       "2828591        0  52.99         False                  0  Motorbike Clothing  \n",
       "2828592      404  79.99         False                  0  Motorbike Clothing  \n",
       "2828593       34  53.99         False                  0  Motorbike Clothing  \n",
       "\n",
       "[2443651 rows x 8 columns]"
      ]
     },
     "execution_count": 33,
     "metadata": {},
     "output_type": "execute_result"
    }
   ],
   "source": [
    "df"
   ]
  },
  {
   "cell_type": "code",
   "execution_count": 36,
   "id": "4cbf5a67-d4f4-450e-83ae-a76c3bae1f84",
   "metadata": {},
   "outputs": [],
   "source": [
    "# Part 1: Analyzing Best-Seller Trends Across Product Categories"
   ]
  },
  {
   "cell_type": "code",
   "execution_count": 38,
   "id": "0335ab7c-04eb-4686-8235-4e40f331da44",
   "metadata": {},
   "outputs": [],
   "source": [
    "# Objective: Understand the relationship between product categories and their best-seller status."
   ]
  },
  {
   "cell_type": "markdown",
   "id": "0a9b3aeb-3487-438a-b59f-a71ab04bd65d",
   "metadata": {},
   "source": [
    "## 1. Crosstab Analysis:"
   ]
  },
  {
   "cell_type": "markdown",
   "id": "b2fd1692-a4fc-4b5d-8569-16426b561ee1",
   "metadata": {},
   "source": [
    "Create a crosstab between the product category and the isBestSeller status."
   ]
  },
  {
   "cell_type": "code",
   "execution_count": 42,
   "id": "1cc3cc57-ccba-47f0-912d-06a5862e345e",
   "metadata": {},
   "outputs": [
    {
     "data": {
      "text/html": [
       "<div>\n",
       "<style scoped>\n",
       "    .dataframe tbody tr th:only-of-type {\n",
       "        vertical-align: middle;\n",
       "    }\n",
       "\n",
       "    .dataframe tbody tr th {\n",
       "        vertical-align: top;\n",
       "    }\n",
       "\n",
       "    .dataframe thead th {\n",
       "        text-align: right;\n",
       "    }\n",
       "</style>\n",
       "<table border=\"1\" class=\"dataframe\">\n",
       "  <thead>\n",
       "    <tr style=\"text-align: right;\">\n",
       "      <th>isBestSeller</th>\n",
       "      <th>False</th>\n",
       "      <th>True</th>\n",
       "    </tr>\n",
       "    <tr>\n",
       "      <th>category</th>\n",
       "      <th></th>\n",
       "      <th></th>\n",
       "    </tr>\n",
       "  </thead>\n",
       "  <tbody>\n",
       "    <tr>\n",
       "      <th>3D Printers</th>\n",
       "      <td>247</td>\n",
       "      <td>1</td>\n",
       "    </tr>\n",
       "    <tr>\n",
       "      <th>3D Printing &amp; Scanning</th>\n",
       "      <td>4065</td>\n",
       "      <td>2</td>\n",
       "    </tr>\n",
       "    <tr>\n",
       "      <th>Abrasive &amp; Finishing Products</th>\n",
       "      <td>245</td>\n",
       "      <td>5</td>\n",
       "    </tr>\n",
       "    <tr>\n",
       "      <th>Action Cameras</th>\n",
       "      <td>1696</td>\n",
       "      <td>1</td>\n",
       "    </tr>\n",
       "    <tr>\n",
       "      <th>Adapters</th>\n",
       "      <td>251</td>\n",
       "      <td>3</td>\n",
       "    </tr>\n",
       "    <tr>\n",
       "      <th>...</th>\n",
       "      <td>...</td>\n",
       "      <td>...</td>\n",
       "    </tr>\n",
       "    <tr>\n",
       "      <th>Wind Instruments</th>\n",
       "      <td>243</td>\n",
       "      <td>7</td>\n",
       "    </tr>\n",
       "    <tr>\n",
       "      <th>Window Treatments</th>\n",
       "      <td>234</td>\n",
       "      <td>5</td>\n",
       "    </tr>\n",
       "    <tr>\n",
       "      <th>Women</th>\n",
       "      <td>17559</td>\n",
       "      <td>213</td>\n",
       "    </tr>\n",
       "    <tr>\n",
       "      <th>Women's Sports &amp; Outdoor Shoes</th>\n",
       "      <td>1939</td>\n",
       "      <td>20</td>\n",
       "    </tr>\n",
       "    <tr>\n",
       "      <th>eBook Readers &amp; Accessories</th>\n",
       "      <td>246</td>\n",
       "      <td>0</td>\n",
       "    </tr>\n",
       "  </tbody>\n",
       "</table>\n",
       "<p>296 rows × 2 columns</p>\n",
       "</div>"
      ],
      "text/plain": [
       "isBestSeller                    False  True \n",
       "category                                    \n",
       "3D Printers                       247      1\n",
       "3D Printing & Scanning           4065      2\n",
       "Abrasive & Finishing Products     245      5\n",
       "Action Cameras                   1696      1\n",
       "Adapters                          251      3\n",
       "...                               ...    ...\n",
       "Wind Instruments                  243      7\n",
       "Window Treatments                 234      5\n",
       "Women                           17559    213\n",
       "Women's Sports & Outdoor Shoes   1939     20\n",
       "eBook Readers & Accessories       246      0\n",
       "\n",
       "[296 rows x 2 columns]"
      ]
     },
     "execution_count": 42,
     "metadata": {},
     "output_type": "execute_result"
    }
   ],
   "source": [
    "joined = pd.crosstab(index = df.category,columns = df.isBestSeller)\n",
    "joined"
   ]
  },
  {
   "cell_type": "markdown",
   "id": "1612b5e6-4ba1-4fcf-8c04-7baf5d519e9d",
   "metadata": {},
   "source": [
    "Are there categories where being a best-seller is more prevalent?"
   ]
  },
  {
   "cell_type": "code",
   "execution_count": 45,
   "id": "81f2ac1e-6e06-474a-b91b-af3887a80746",
   "metadata": {},
   "outputs": [
    {
     "data": {
      "text/html": [
       "<div>\n",
       "<style scoped>\n",
       "    .dataframe tbody tr th:only-of-type {\n",
       "        vertical-align: middle;\n",
       "    }\n",
       "\n",
       "    .dataframe tbody tr th {\n",
       "        vertical-align: top;\n",
       "    }\n",
       "\n",
       "    .dataframe thead th {\n",
       "        text-align: right;\n",
       "    }\n",
       "</style>\n",
       "<table border=\"1\" class=\"dataframe\">\n",
       "  <thead>\n",
       "    <tr style=\"text-align: right;\">\n",
       "      <th>isBestSeller</th>\n",
       "      <th>False</th>\n",
       "      <th>True</th>\n",
       "    </tr>\n",
       "    <tr>\n",
       "      <th>category</th>\n",
       "      <th></th>\n",
       "      <th></th>\n",
       "    </tr>\n",
       "  </thead>\n",
       "  <tbody>\n",
       "    <tr>\n",
       "      <th>Sports &amp; Outdoors</th>\n",
       "      <td>835935</td>\n",
       "      <td>330</td>\n",
       "    </tr>\n",
       "    <tr>\n",
       "      <th>Handmade Clothing, Shoes &amp; Accessories</th>\n",
       "      <td>19215</td>\n",
       "      <td>14</td>\n",
       "    </tr>\n",
       "    <tr>\n",
       "      <th>Bath &amp; Body</th>\n",
       "      <td>19059</td>\n",
       "      <td>33</td>\n",
       "    </tr>\n",
       "    <tr>\n",
       "      <th>Beauty</th>\n",
       "      <td>19010</td>\n",
       "      <td>302</td>\n",
       "    </tr>\n",
       "    <tr>\n",
       "      <th>Birthday Gifts</th>\n",
       "      <td>18943</td>\n",
       "      <td>35</td>\n",
       "    </tr>\n",
       "    <tr>\n",
       "      <th>...</th>\n",
       "      <td>...</td>\n",
       "      <td>...</td>\n",
       "    </tr>\n",
       "    <tr>\n",
       "      <th>Motorbike Chassis</th>\n",
       "      <td>107</td>\n",
       "      <td>0</td>\n",
       "    </tr>\n",
       "    <tr>\n",
       "      <th>Plugs</th>\n",
       "      <td>106</td>\n",
       "      <td>1</td>\n",
       "    </tr>\n",
       "    <tr>\n",
       "      <th>Alexa Built-In Devices</th>\n",
       "      <td>106</td>\n",
       "      <td>1</td>\n",
       "    </tr>\n",
       "    <tr>\n",
       "      <th>Smart Home Security &amp; Lighting</th>\n",
       "      <td>98</td>\n",
       "      <td>6</td>\n",
       "    </tr>\n",
       "    <tr>\n",
       "      <th>Smart Speakers</th>\n",
       "      <td>53</td>\n",
       "      <td>1</td>\n",
       "    </tr>\n",
       "  </tbody>\n",
       "</table>\n",
       "<p>296 rows × 2 columns</p>\n",
       "</div>"
      ],
      "text/plain": [
       "isBestSeller                             False  True \n",
       "category                                             \n",
       "Sports & Outdoors                       835935    330\n",
       "Handmade Clothing, Shoes & Accessories   19215     14\n",
       "Bath & Body                              19059     33\n",
       "Beauty                                   19010    302\n",
       "Birthday Gifts                           18943     35\n",
       "...                                        ...    ...\n",
       "Motorbike Chassis                          107      0\n",
       "Plugs                                      106      1\n",
       "Alexa Built-In Devices                     106      1\n",
       "Smart Home Security & Lighting              98      6\n",
       "Smart Speakers                              53      1\n",
       "\n",
       "[296 rows x 2 columns]"
      ]
     },
     "execution_count": 45,
     "metadata": {},
     "output_type": "execute_result"
    }
   ],
   "source": [
    "joined.sort_values(by=['isBestSeller' == True], ascending=False)"
   ]
  },
  {
   "cell_type": "code",
   "execution_count": 47,
   "id": "61c5ecf8-fe58-41fa-8ef3-10dcf9afe00c",
   "metadata": {},
   "outputs": [],
   "source": [
    "# Health & Personal Care is more prevalent sold for all catagories."
   ]
  },
  {
   "cell_type": "markdown",
   "id": "b05dd558-a3f2-4e8f-82b2-6c32d1454f69",
   "metadata": {},
   "source": [
    "## 2. Statistical Tests:"
   ]
  },
  {
   "cell_type": "markdown",
   "id": "905fc9cf-4b71-46e5-bb58-b296adbf7850",
   "metadata": {},
   "source": [
    "Conduct a Chi-square test to determine if the best-seller distribution is independent of the product category"
   ]
  },
  {
   "cell_type": "code",
   "execution_count": 51,
   "id": "619d05fa-e7e6-4bf4-8c07-770a8755ff51",
   "metadata": {},
   "outputs": [],
   "source": [
    "from scipy.stats import chi2_contingency"
   ]
  },
  {
   "cell_type": "code",
   "execution_count": 53,
   "id": "6abd45f2-3045-40b5-9cf0-4d2a22a5a3bf",
   "metadata": {},
   "outputs": [],
   "source": [
    "chi = df.copy()"
   ]
  },
  {
   "cell_type": "code",
   "execution_count": 55,
   "id": "86e75caf-8fbd-4f71-bb42-fb9039caeadd",
   "metadata": {},
   "outputs": [
    {
     "data": {
      "text/html": [
       "<div>\n",
       "<style scoped>\n",
       "    .dataframe tbody tr th:only-of-type {\n",
       "        vertical-align: middle;\n",
       "    }\n",
       "\n",
       "    .dataframe tbody tr th {\n",
       "        vertical-align: top;\n",
       "    }\n",
       "\n",
       "    .dataframe thead th {\n",
       "        text-align: right;\n",
       "    }\n",
       "</style>\n",
       "<table border=\"1\" class=\"dataframe\">\n",
       "  <thead>\n",
       "    <tr style=\"text-align: right;\">\n",
       "      <th>isBestSeller</th>\n",
       "      <th>False</th>\n",
       "      <th>True</th>\n",
       "    </tr>\n",
       "    <tr>\n",
       "      <th>category</th>\n",
       "      <th></th>\n",
       "      <th></th>\n",
       "    </tr>\n",
       "  </thead>\n",
       "  <tbody>\n",
       "    <tr>\n",
       "      <th>3D Printers</th>\n",
       "      <td>247</td>\n",
       "      <td>1</td>\n",
       "    </tr>\n",
       "    <tr>\n",
       "      <th>3D Printing &amp; Scanning</th>\n",
       "      <td>4065</td>\n",
       "      <td>2</td>\n",
       "    </tr>\n",
       "    <tr>\n",
       "      <th>Abrasive &amp; Finishing Products</th>\n",
       "      <td>245</td>\n",
       "      <td>5</td>\n",
       "    </tr>\n",
       "    <tr>\n",
       "      <th>Action Cameras</th>\n",
       "      <td>1696</td>\n",
       "      <td>1</td>\n",
       "    </tr>\n",
       "    <tr>\n",
       "      <th>Adapters</th>\n",
       "      <td>251</td>\n",
       "      <td>3</td>\n",
       "    </tr>\n",
       "    <tr>\n",
       "      <th>...</th>\n",
       "      <td>...</td>\n",
       "      <td>...</td>\n",
       "    </tr>\n",
       "    <tr>\n",
       "      <th>Wind Instruments</th>\n",
       "      <td>243</td>\n",
       "      <td>7</td>\n",
       "    </tr>\n",
       "    <tr>\n",
       "      <th>Window Treatments</th>\n",
       "      <td>234</td>\n",
       "      <td>5</td>\n",
       "    </tr>\n",
       "    <tr>\n",
       "      <th>Women</th>\n",
       "      <td>17559</td>\n",
       "      <td>213</td>\n",
       "    </tr>\n",
       "    <tr>\n",
       "      <th>Women's Sports &amp; Outdoor Shoes</th>\n",
       "      <td>1939</td>\n",
       "      <td>20</td>\n",
       "    </tr>\n",
       "    <tr>\n",
       "      <th>eBook Readers &amp; Accessories</th>\n",
       "      <td>246</td>\n",
       "      <td>0</td>\n",
       "    </tr>\n",
       "  </tbody>\n",
       "</table>\n",
       "<p>296 rows × 2 columns</p>\n",
       "</div>"
      ],
      "text/plain": [
       "isBestSeller                    False  True \n",
       "category                                    \n",
       "3D Printers                       247      1\n",
       "3D Printing & Scanning           4065      2\n",
       "Abrasive & Finishing Products     245      5\n",
       "Action Cameras                   1696      1\n",
       "Adapters                          251      3\n",
       "...                               ...    ...\n",
       "Wind Instruments                  243      7\n",
       "Window Treatments                 234      5\n",
       "Women                           17559    213\n",
       "Women's Sports & Outdoor Shoes   1939     20\n",
       "eBook Readers & Accessories       246      0\n",
       "\n",
       "[296 rows x 2 columns]"
      ]
     },
     "execution_count": 55,
     "metadata": {},
     "output_type": "execute_result"
    }
   ],
   "source": [
    "df_chi = pd.crosstab(chi['category'],chi['isBestSeller'])\n",
    "df_chi"
   ]
  },
  {
   "cell_type": "code",
   "execution_count": 56,
   "id": "22f7d61f-6c6d-4e1b-afff-42d56aa1bd3c",
   "metadata": {},
   "outputs": [],
   "source": [
    "d = chi2_contingency(df_chi)"
   ]
  },
  {
   "cell_type": "code",
   "execution_count": 59,
   "id": "c4864c6d-fc07-4296-8296-198784dbed66",
   "metadata": {},
   "outputs": [
    {
     "data": {
      "text/plain": [
       "Chi2ContingencyResult(statistic=36540.20270061387, pvalue=0.0, dof=295, expected_freq=array([[2.47190130e+02, 8.09870149e-01],\n",
       "       [4.05371878e+03, 1.32812173e+01],\n",
       "       [2.49183599e+02, 8.16401360e-01],\n",
       "       [1.69145827e+03, 5.54173243e+00],\n",
       "       [2.53170536e+02, 8.29463782e-01],\n",
       "       [8.50214439e+03, 2.78556144e+01],\n",
       "       [1.06650580e+02, 3.49419782e-01],\n",
       "       [2.57157474e+02, 8.42526204e-01],\n",
       "       [9.51781673e+03, 3.11832664e+01],\n",
       "       [1.50008526e+04, 4.91473619e+01],\n",
       "       [9.32544700e+03, 3.05530045e+01],\n",
       "       [2.38219520e+02, 7.80479700e-01],\n",
       "       [3.22941944e+03, 1.05805616e+01],\n",
       "       [9.44704859e+03, 3.09514084e+01],\n",
       "       [6.68808779e+03, 2.19122125e+01],\n",
       "       [5.26275760e+02, 1.72423967e+00],\n",
       "       [1.90296531e+04, 6.23469391e+01],\n",
       "       [2.77191835e+03, 9.08164873e+00],\n",
       "       [2.53170536e+02, 8.29463782e-01],\n",
       "       [4.04674164e+02, 1.32583581e+00],\n",
       "       [1.92489346e+04, 6.30653723e+01],\n",
       "       [3.10482764e+03, 1.01723609e+01],\n",
       "       [2.04330551e+02, 6.69449115e-01],\n",
       "       [6.28839730e+03, 2.06027047e+01],\n",
       "       [5.23385231e+03, 1.71476942e+01],\n",
       "       [9.52180367e+03, 3.11963288e+01],\n",
       "       [2.48186864e+02, 8.13135755e-01],\n",
       "       [9.46598655e+03, 3.10134549e+01],\n",
       "       [9.26065926e+03, 3.03407401e+01],\n",
       "       [1.89160253e+04, 6.19746600e+01],\n",
       "       [2.42206458e+02, 7.93542122e-01],\n",
       "       [1.39542815e+02, 4.57184762e-01],\n",
       "       [2.46193395e+02, 8.06604544e-01],\n",
       "       [9.08025033e+02, 2.97496656e+00],\n",
       "       [4.06069592e+03, 1.33040766e+01],\n",
       "       [1.17505018e+04, 3.84982225e+01],\n",
       "       [9.45900940e+03, 3.09905956e+01],\n",
       "       [8.10345063e+03, 2.65493722e+01],\n",
       "       [8.76926920e+03, 2.87307967e+01],\n",
       "       [2.48186864e+02, 8.13135755e-01],\n",
       "       [9.02842015e+03, 2.95798541e+01],\n",
       "       [2.49183599e+02, 8.16401360e-01],\n",
       "       [4.86406385e+02, 1.59361545e+00],\n",
       "       [9.38126412e+03, 3.07358784e+01],\n",
       "       [1.81405660e+02, 5.94340190e-01],\n",
       "       [2.48186864e+02, 8.13135755e-01],\n",
       "       [9.35235882e+03, 3.06411758e+01],\n",
       "       [8.61776558e+03, 2.82344246e+01],\n",
       "       [2.61144411e+02, 8.55588625e-01],\n",
       "       [2.19381240e+03, 7.18759757e+00],\n",
       "       [2.37222786e+02, 7.77214095e-01],\n",
       "       [5.12321479e+02, 1.67852120e+00],\n",
       "       [7.60209323e+03, 2.49067727e+01],\n",
       "       [2.43203192e+02, 7.96807727e-01],\n",
       "       [9.41814329e+03, 3.08567058e+01],\n",
       "       [2.35229317e+02, 7.70682884e-01],\n",
       "       [2.47190130e+02, 8.09870149e-01],\n",
       "       [2.33235848e+02, 7.64151673e-01],\n",
       "       [8.05859758e+03, 2.64024200e+01],\n",
       "       [6.17078264e+03, 2.02173633e+01],\n",
       "       [2.64134615e+02, 8.65385442e-01],\n",
       "       [8.89784794e+03, 2.91520598e+01],\n",
       "       [1.43529753e+03, 4.70247183e+00],\n",
       "       [2.90049709e+02, 9.50291183e-01],\n",
       "       [7.03694483e+02, 2.30551744e+00],\n",
       "       [4.21917669e+03, 1.38233078e+01],\n",
       "       [7.27815455e+03, 2.38454509e+01],\n",
       "       [2.54167271e+02, 8.32729387e-01],\n",
       "       [9.38923800e+03, 3.07620032e+01],\n",
       "       [8.73637697e+03, 2.86230317e+01],\n",
       "       [2.54167271e+02, 8.32729387e-01],\n",
       "       [8.91678589e+03, 2.92141063e+01],\n",
       "       [2.58154208e+02, 8.45791809e-01],\n",
       "       [2.44199927e+02, 8.00073333e-01],\n",
       "       [2.71111755e+02, 8.88244680e-01],\n",
       "       [7.37085085e+03, 2.41491522e+01],\n",
       "       [1.48413751e+03, 4.86248650e+00],\n",
       "       [7.71472421e+02, 2.52757861e+00],\n",
       "       [2.10609978e+03, 6.90022430e+00],\n",
       "       [9.47994083e+03, 3.10591733e+01],\n",
       "       [2.48186864e+02, 8.13135755e-01],\n",
       "       [1.27980696e+03, 4.19303739e+00],\n",
       "       [2.51177067e+02, 8.22932571e-01],\n",
       "       [2.49183599e+02, 8.16401360e-01],\n",
       "       [8.71145861e+03, 2.85413915e+01],\n",
       "       [8.85598510e+03, 2.90149043e+01],\n",
       "       [9.20583887e+03, 3.01611318e+01],\n",
       "       [2.35328991e+03, 7.71009444e+00],\n",
       "       [5.81295499e+03, 1.90450109e+01],\n",
       "       [5.63154933e+03, 1.84506707e+01],\n",
       "       [2.72905877e+03, 8.94122770e+00],\n",
       "       [1.01766582e+03, 3.33418315e+00],\n",
       "       [9.33342087e+03, 3.05791293e+01],\n",
       "       [9.33641107e+03, 3.05889262e+01],\n",
       "       [1.85033773e+04, 6.06226994e+01],\n",
       "       [9.14204787e+03, 2.99521331e+01],\n",
       "       [9.31846985e+03, 3.05301453e+01],\n",
       "       [9.36531637e+03, 3.06836287e+01],\n",
       "       [9.46100287e+03, 3.09971268e+01],\n",
       "       [9.59456528e+03, 3.14347180e+01],\n",
       "       [9.39621514e+03, 3.07848625e+01],\n",
       "       [8.88688386e+03, 2.91161381e+01],\n",
       "       [9.35036536e+03, 3.06346446e+01],\n",
       "       [2.58154208e+02, 8.45791809e-01],\n",
       "       [6.88743467e+02, 2.25653336e+00],\n",
       "       [4.36569665e+02, 1.43033518e+00],\n",
       "       [1.02763316e+04, 3.36683921e+01],\n",
       "       [5.94751413e+03, 1.94858677e+01],\n",
       "       [2.48186864e+02, 8.13135755e-01],\n",
       "       [9.53276775e+03, 3.12322504e+01],\n",
       "       [9.36232617e+03, 3.06738319e+01],\n",
       "       [1.86738189e+04, 6.11811179e+01],\n",
       "       [4.87801813e+03, 1.59818730e+01],\n",
       "       [1.44845442e+04, 4.74557783e+01],\n",
       "       [1.78196175e+04, 5.83824941e+01],\n",
       "       [6.33524381e+03, 2.07561882e+01],\n",
       "       [1.91662057e+04, 6.27943270e+01],\n",
       "       [1.82352557e+04, 5.97442515e+01],\n",
       "       [1.73780642e+04, 5.69358309e+01],\n",
       "       [1.80867423e+04, 5.92576763e+01],\n",
       "       [1.79850754e+04, 5.89245846e+01],\n",
       "       [1.73750740e+04, 5.69260340e+01],\n",
       "       [2.31242380e+02, 7.57620462e-01],\n",
       "       [8.54201376e+03, 2.79862386e+01],\n",
       "       [9.32843720e+03, 3.05628013e+01],\n",
       "       [9.43309431e+03, 3.09056899e+01],\n",
       "       [9.53775142e+03, 3.12485785e+01],\n",
       "       [4.45440601e+03, 1.45939907e+01],\n",
       "       [9.43708125e+03, 3.09187523e+01],\n",
       "       [9.16895970e+03, 3.00403044e+01],\n",
       "       [8.71644228e+03, 2.85577196e+01],\n",
       "       [2.47190130e+02, 8.09870149e-01],\n",
       "       [9.14404134e+03, 2.99586643e+01],\n",
       "       [2.55164005e+02, 8.35994993e-01],\n",
       "       [6.35318503e+03, 2.08149691e+01],\n",
       "       [1.19907148e+03, 3.92852334e+00],\n",
       "       [2.45196661e+02, 8.03338938e-01],\n",
       "       [9.28258742e+03, 3.04125835e+01],\n",
       "       [1.95359941e+02, 6.40058666e-01],\n",
       "       [2.12204753e+03, 6.95247398e+00],\n",
       "       [2.60147677e+02, 8.52323020e-01],\n",
       "       [2.45396008e+03, 8.03992059e+00],\n",
       "       [9.15201521e+03, 2.99847892e+01],\n",
       "       [2.43203192e+02, 7.96807727e-01],\n",
       "       [2.56160739e+02, 8.39260598e-01],\n",
       "       [8.55796151e+03, 2.80384883e+01],\n",
       "       [2.19281567e+02, 7.18433197e-01],\n",
       "       [2.53170536e+02, 8.29463782e-01],\n",
       "       [2.43203192e+02, 7.96807727e-01],\n",
       "       [2.52173802e+02, 8.26198176e-01],\n",
       "       [2.62240819e+03, 8.59180791e+00],\n",
       "       [9.43907472e+03, 3.09252835e+01],\n",
       "       [6.90238568e+03, 2.26143177e+01],\n",
       "       [2.47489150e+03, 8.10849831e+00],\n",
       "       [9.56565998e+03, 3.13400154e+01],\n",
       "       [9.45103553e+03, 3.09644708e+01],\n",
       "       [9.18191724e+03, 3.00827573e+01],\n",
       "       [9.44007145e+03, 3.09285491e+01],\n",
       "       [9.39023473e+03, 3.07652689e+01],\n",
       "       [7.89014947e+03, 2.58505327e+01],\n",
       "       [2.41209723e+02, 7.90276517e-01],\n",
       "       [1.42333672e+03, 4.66328457e+00],\n",
       "       [5.14314948e+02, 1.68505241e+00],\n",
       "       [4.26602321e+02, 1.39767913e+00],\n",
       "       [2.49183599e+02, 8.16401360e-01],\n",
       "       [7.22433089e+03, 2.36691082e+01],\n",
       "       [7.85825397e+03, 2.57460333e+01],\n",
       "       [9.45601920e+03, 3.09807988e+01],\n",
       "       [3.12775253e+03, 1.02474699e+01],\n",
       "       [9.15301195e+03, 2.99880548e+01],\n",
       "       [1.32565674e+02, 4.34325524e-01],\n",
       "       [1.79412191e+02, 5.87808979e-01],\n",
       "       [5.88671333e+03, 1.92866657e+01],\n",
       "       [1.80827554e+04, 5.92446139e+01],\n",
       "       [6.76782654e+02, 2.21734609e+00],\n",
       "       [2.21972750e+03, 7.27250332e+00],\n",
       "       [1.86947503e+04, 6.12496956e+01],\n",
       "       [1.88781494e+04, 6.18505670e+01],\n",
       "       [1.59477503e+02, 5.22496870e-01],\n",
       "       [7.66488749e+02, 2.51125058e+00],\n",
       "       [9.38325759e+03, 3.07424096e+01],\n",
       "       [1.73601230e+04, 5.68770500e+01],\n",
       "       [3.06296479e+03, 1.00352055e+01],\n",
       "       [9.36431964e+03, 3.06803631e+01],\n",
       "       [2.49183599e+02, 8.16401360e-01],\n",
       "       [2.58154208e+02, 8.45791809e-01],\n",
       "       [8.85299489e+03, 2.90051075e+01],\n",
       "       [7.81041072e+03, 2.55892842e+01],\n",
       "       [4.41453663e+03, 1.44633665e+01],\n",
       "       [8.53703009e+03, 2.79699106e+01],\n",
       "       [2.58154208e+02, 8.45791809e-01],\n",
       "       [4.37566399e+02, 1.43360079e+00],\n",
       "       [5.24082945e+03, 1.71705534e+01],\n",
       "       [2.49183599e+02, 8.16401360e-01],\n",
       "       [2.49183599e+02, 8.16401360e-01],\n",
       "       [1.06650580e+02, 3.49419782e-01],\n",
       "       [4.82419447e+02, 1.58055303e+00],\n",
       "       [2.49183599e+02, 8.16401360e-01],\n",
       "       [8.60580476e+03, 2.81952374e+01],\n",
       "       [2.27255442e+02, 7.44558040e-01],\n",
       "       [2.57157474e+02, 8.42526204e-01],\n",
       "       [8.06657146e+03, 2.64285448e+01],\n",
       "       [4.15438896e+03, 1.36110435e+01],\n",
       "       [5.19298620e+03, 1.70138043e+01],\n",
       "       [2.48186864e+02, 8.13135755e-01],\n",
       "       [1.70042888e+03, 5.57112288e+00],\n",
       "       [5.66842850e+03, 1.85714981e+01],\n",
       "       [9.26464620e+03, 3.03538026e+01],\n",
       "       [9.24072457e+03, 3.02754280e+01],\n",
       "       [9.06629605e+03, 2.97039471e+01],\n",
       "       [9.14802827e+03, 2.99717267e+01],\n",
       "       [9.50087225e+03, 3.11277511e+01],\n",
       "       [2.54167271e+02, 8.32729387e-01],\n",
       "       [8.97658996e+03, 2.94100426e+01],\n",
       "       [3.89922495e+03, 1.27750485e+01],\n",
       "       [2.89052974e+02, 9.47025578e-01],\n",
       "       [6.14486754e+03, 2.01324575e+01],\n",
       "       [8.71345208e+03, 2.85479228e+01],\n",
       "       [2.56160739e+02, 8.39260598e-01],\n",
       "       [8.99652465e+03, 2.94753547e+01],\n",
       "       [9.13008705e+03, 2.99129458e+01],\n",
       "       [9.40618248e+03, 3.08175185e+01],\n",
       "       [2.53170536e+02, 8.29463782e-01],\n",
       "       [1.11933273e+03, 3.66727491e+00],\n",
       "       [9.39422167e+03, 3.07783313e+01],\n",
       "       [9.45103553e+03, 3.09644708e+01],\n",
       "       [1.06650580e+02, 3.49419782e-01],\n",
       "       [8.84601775e+03, 2.89822483e+01],\n",
       "       [9.23275070e+03, 3.02493032e+01],\n",
       "       [8.63072312e+03, 2.82768775e+01],\n",
       "       [2.46193395e+02, 8.06604544e-01],\n",
       "       [2.53170536e+02, 8.29463782e-01],\n",
       "       [9.44007145e+03, 3.09285491e+01],\n",
       "       [8.31974199e+03, 2.72580086e+01],\n",
       "       [2.55164005e+02, 8.35994993e-01],\n",
       "       [8.66959576e+03, 2.84042361e+01],\n",
       "       [5.19099273e+03, 1.70072731e+01],\n",
       "       [7.16751703e+03, 2.34829687e+01],\n",
       "       [9.36232617e+03, 3.06738319e+01],\n",
       "       [9.30949925e+03, 3.05007548e+01],\n",
       "       [9.33441761e+03, 3.05823949e+01],\n",
       "       [4.02381675e+03, 1.31832492e+01],\n",
       "       [1.73830478e+03, 5.69521589e+00],\n",
       "       [9.04038096e+03, 2.96190413e+01],\n",
       "       [9.50087225e+03, 3.11277511e+01],\n",
       "       [8.55297784e+03, 2.80221603e+01],\n",
       "       [5.26475107e+03, 1.72489279e+01],\n",
       "       [2.02636102e+03, 6.63897586e+00],\n",
       "       [2.55164005e+02, 8.35994993e-01],\n",
       "       [2.53170536e+02, 8.29463782e-01],\n",
       "       [2.55164005e+02, 8.35994993e-01],\n",
       "       [1.87077079e+04, 6.12921485e+01],\n",
       "       [2.39216255e+02, 7.83745306e-01],\n",
       "       [8.17820571e+03, 2.67942926e+01],\n",
       "       [1.03660377e+02, 3.39622966e-01],\n",
       "       [5.38236573e+01, 1.76342694e-01],\n",
       "       [7.15555622e+03, 2.34437815e+01],\n",
       "       [7.10771297e+03, 2.32870324e+01],\n",
       "       [7.10671623e+02, 2.32837668e+00],\n",
       "       [1.44426814e+03, 4.73186228e+00],\n",
       "       [6.37910013e+02, 2.08998748e+00],\n",
       "       [9.21281601e+03, 3.01839911e+01],\n",
       "       [8.33534088e+05, 2.73091153e+03],\n",
       "       [9.41216289e+03, 3.08371122e+01],\n",
       "       [9.28856782e+03, 3.04321771e+01],\n",
       "       [8.63471006e+03, 2.82899399e+01],\n",
       "       [9.53775142e+03, 3.12485785e+01],\n",
       "       [2.01838715e+03, 6.61285102e+00],\n",
       "       [2.49183599e+02, 8.16401360e-01],\n",
       "       [8.22505222e+03, 2.69477761e+01],\n",
       "       [9.30252210e+03, 3.04778956e+01],\n",
       "       [9.29155803e+03, 3.04419739e+01],\n",
       "       [6.48575071e+03, 2.12492946e+01],\n",
       "       [5.34249635e+02, 1.75036452e+00],\n",
       "       [7.84429969e+03, 2.57003148e+01],\n",
       "       [2.48186864e+02, 8.13135755e-01],\n",
       "       [8.72042922e+03, 2.85707820e+01],\n",
       "       [4.66970064e+03, 1.52993615e+01],\n",
       "       [2.58154208e+02, 8.45791809e-01],\n",
       "       [4.43546806e+02, 1.45319442e+00],\n",
       "       [2.49183599e+02, 8.16401360e-01],\n",
       "       [9.36531637e+03, 3.06836287e+01],\n",
       "       [2.49183599e+02, 8.16401360e-01],\n",
       "       [4.72551776e+03, 1.54822354e+01],\n",
       "       [3.47860304e+02, 1.13969630e+00],\n",
       "       [2.49183599e+02, 8.16401360e-01],\n",
       "       [3.64107074e+03, 1.19292567e+01],\n",
       "       [6.92232037e+03, 2.26796298e+01],\n",
       "       [2.49183599e+02, 8.16401360e-01],\n",
       "       [1.86389332e+02, 6.10668217e-01],\n",
       "       [8.87691652e+03, 2.90834821e+01],\n",
       "       [2.49183599e+02, 8.16401360e-01],\n",
       "       [2.38219520e+02, 7.80479700e-01],\n",
       "       [1.77139637e+04, 5.80363399e+01],\n",
       "       [1.95260268e+03, 6.39732106e+00],\n",
       "       [2.45196661e+02, 8.03338938e-01]]))"
      ]
     },
     "execution_count": 59,
     "metadata": {},
     "output_type": "execute_result"
    }
   ],
   "source": [
    "# acording to the test, the distribution is 'dependent', because the p_value is 0.0 which is lessthan 0.05 thereshold. \n",
    "d"
   ]
  },
  {
   "cell_type": "markdown",
   "id": "68042600-6e5b-4685-9a46-8363dd62a14c",
   "metadata": {},
   "source": [
    "#### Compute Cramér's V to understand the strength of association between best-seller status and category"
   ]
  },
  {
   "cell_type": "code",
   "execution_count": 62,
   "id": "cb1e5a64-1312-4dbb-b2ae-90131bae2dbf",
   "metadata": {},
   "outputs": [],
   "source": [
    "from scipy.stats.contingency import association"
   ]
  },
  {
   "cell_type": "code",
   "execution_count": 64,
   "id": "3d778b75-0565-4594-b544-49a133fcccc1",
   "metadata": {},
   "outputs": [
    {
     "data": {
      "text/plain": [
       "0.1222829439760564"
      ]
     },
     "execution_count": 64,
     "metadata": {},
     "output_type": "execute_result"
    }
   ],
   "source": [
    "association(df_chi, method='cramer')"
   ]
  },
  {
   "cell_type": "code",
   "execution_count": 66,
   "id": "186f898d-70c9-44ab-8144-f8982647da57",
   "metadata": {},
   "outputs": [],
   "source": [
    "# The Cramer value of 0.122 suggests a weak association between two variables"
   ]
  },
  {
   "cell_type": "markdown",
   "id": "2012751f-1015-41ea-9c8d-6b013b76f81a",
   "metadata": {},
   "source": [
    "## 3. Visualizations:"
   ]
  },
  {
   "cell_type": "markdown",
   "id": "b83e749c-4bd8-45de-972a-a8ad107217cd",
   "metadata": {},
   "source": [
    "Visualize the relationship between product categories and the best-seller status using a stacked bar chart."
   ]
  },
  {
   "cell_type": "code",
   "execution_count": 74,
   "id": "11c6906a-826a-410a-b998-7bd4601412fb",
   "metadata": {},
   "outputs": [],
   "source": [
    "exp = df.copy()"
   ]
  },
  {
   "cell_type": "code",
   "execution_count": 76,
   "id": "6633697d-ea4f-41be-864a-bb9f0d12f627",
   "metadata": {},
   "outputs": [
    {
     "data": {
      "text/html": [
       "<div>\n",
       "<style scoped>\n",
       "    .dataframe tbody tr th:only-of-type {\n",
       "        vertical-align: middle;\n",
       "    }\n",
       "\n",
       "    .dataframe tbody tr th {\n",
       "        vertical-align: top;\n",
       "    }\n",
       "\n",
       "    .dataframe thead th {\n",
       "        text-align: right;\n",
       "    }\n",
       "</style>\n",
       "<table border=\"1\" class=\"dataframe\">\n",
       "  <thead>\n",
       "    <tr style=\"text-align: right;\">\n",
       "      <th></th>\n",
       "      <th>asin</th>\n",
       "      <th>title</th>\n",
       "      <th>stars</th>\n",
       "      <th>reviews</th>\n",
       "      <th>price</th>\n",
       "      <th>isBestSeller</th>\n",
       "      <th>boughtInLastMonth</th>\n",
       "      <th>category</th>\n",
       "    </tr>\n",
       "    <tr>\n",
       "      <th>uid</th>\n",
       "      <th></th>\n",
       "      <th></th>\n",
       "      <th></th>\n",
       "      <th></th>\n",
       "      <th></th>\n",
       "      <th></th>\n",
       "      <th></th>\n",
       "      <th></th>\n",
       "    </tr>\n",
       "  </thead>\n",
       "  <tbody>\n",
       "    <tr>\n",
       "      <th>1</th>\n",
       "      <td>B09B96TG33</td>\n",
       "      <td>Echo Dot (5th generation, 2022 release) | Big ...</td>\n",
       "      <td>4.7</td>\n",
       "      <td>15308</td>\n",
       "      <td>21.99</td>\n",
       "      <td>False</td>\n",
       "      <td>0</td>\n",
       "      <td>Hi-Fi Speakers</td>\n",
       "    </tr>\n",
       "    <tr>\n",
       "      <th>2</th>\n",
       "      <td>B01HTH3C8S</td>\n",
       "      <td>Anker Soundcore mini, Super-Portable Bluetooth...</td>\n",
       "      <td>4.7</td>\n",
       "      <td>98099</td>\n",
       "      <td>23.99</td>\n",
       "      <td>True</td>\n",
       "      <td>0</td>\n",
       "      <td>Hi-Fi Speakers</td>\n",
       "    </tr>\n",
       "  </tbody>\n",
       "</table>\n",
       "</div>"
      ],
      "text/plain": [
       "           asin                                              title  stars  \\\n",
       "uid                                                                         \n",
       "1    B09B96TG33  Echo Dot (5th generation, 2022 release) | Big ...    4.7   \n",
       "2    B01HTH3C8S  Anker Soundcore mini, Super-Portable Bluetooth...    4.7   \n",
       "\n",
       "     reviews  price  isBestSeller  boughtInLastMonth        category  \n",
       "uid                                                                   \n",
       "1      15308  21.99         False                  0  Hi-Fi Speakers  \n",
       "2      98099  23.99          True                  0  Hi-Fi Speakers  "
      ]
     },
     "execution_count": 76,
     "metadata": {},
     "output_type": "execute_result"
    }
   ],
   "source": [
    "exp.head(2)"
   ]
  },
  {
   "cell_type": "code",
   "execution_count": 78,
   "id": "69f14825-7de5-42a6-a2b6-0dc0671d933f",
   "metadata": {},
   "outputs": [],
   "source": [
    "relation = exp.nlargest(20, 'price')"
   ]
  },
  {
   "cell_type": "code",
   "execution_count": null,
   "id": "6b47a55d-f780-495a-92f2-f32354052205",
   "metadata": {},
   "outputs": [],
   "source": []
  },
  {
   "cell_type": "code",
   "execution_count": 81,
   "id": "787dc280-3bac-454e-9e41-c63b92ae43d2",
   "metadata": {},
   "outputs": [
    {
     "data": {
      "text/html": [
       "<div>\n",
       "<style scoped>\n",
       "    .dataframe tbody tr th:only-of-type {\n",
       "        vertical-align: middle;\n",
       "    }\n",
       "\n",
       "    .dataframe tbody tr th {\n",
       "        vertical-align: top;\n",
       "    }\n",
       "\n",
       "    .dataframe thead th {\n",
       "        text-align: right;\n",
       "    }\n",
       "</style>\n",
       "<table border=\"1\" class=\"dataframe\">\n",
       "  <thead>\n",
       "    <tr style=\"text-align: right;\">\n",
       "      <th>isBestSeller</th>\n",
       "      <th>False</th>\n",
       "      <th>True</th>\n",
       "    </tr>\n",
       "    <tr>\n",
       "      <th>category</th>\n",
       "      <th></th>\n",
       "      <th></th>\n",
       "    </tr>\n",
       "  </thead>\n",
       "  <tbody>\n",
       "    <tr>\n",
       "      <th>Sports &amp; Outdoors</th>\n",
       "      <td>835935</td>\n",
       "      <td>330</td>\n",
       "    </tr>\n",
       "    <tr>\n",
       "      <th>Handmade Clothing, Shoes &amp; Accessories</th>\n",
       "      <td>19215</td>\n",
       "      <td>14</td>\n",
       "    </tr>\n",
       "    <tr>\n",
       "      <th>Bath &amp; Body</th>\n",
       "      <td>19059</td>\n",
       "      <td>33</td>\n",
       "    </tr>\n",
       "    <tr>\n",
       "      <th>Beauty</th>\n",
       "      <td>19010</td>\n",
       "      <td>302</td>\n",
       "    </tr>\n",
       "    <tr>\n",
       "      <th>Birthday Gifts</th>\n",
       "      <td>18943</td>\n",
       "      <td>35</td>\n",
       "    </tr>\n",
       "    <tr>\n",
       "      <th>...</th>\n",
       "      <td>...</td>\n",
       "      <td>...</td>\n",
       "    </tr>\n",
       "    <tr>\n",
       "      <th>Motorbike Chassis</th>\n",
       "      <td>107</td>\n",
       "      <td>0</td>\n",
       "    </tr>\n",
       "    <tr>\n",
       "      <th>Plugs</th>\n",
       "      <td>106</td>\n",
       "      <td>1</td>\n",
       "    </tr>\n",
       "    <tr>\n",
       "      <th>Alexa Built-In Devices</th>\n",
       "      <td>106</td>\n",
       "      <td>1</td>\n",
       "    </tr>\n",
       "    <tr>\n",
       "      <th>Smart Home Security &amp; Lighting</th>\n",
       "      <td>98</td>\n",
       "      <td>6</td>\n",
       "    </tr>\n",
       "    <tr>\n",
       "      <th>Smart Speakers</th>\n",
       "      <td>53</td>\n",
       "      <td>1</td>\n",
       "    </tr>\n",
       "  </tbody>\n",
       "</table>\n",
       "<p>296 rows × 2 columns</p>\n",
       "</div>"
      ],
      "text/plain": [
       "isBestSeller                             False  True \n",
       "category                                             \n",
       "Sports & Outdoors                       835935    330\n",
       "Handmade Clothing, Shoes & Accessories   19215     14\n",
       "Bath & Body                              19059     33\n",
       "Beauty                                   19010    302\n",
       "Birthday Gifts                           18943     35\n",
       "...                                        ...    ...\n",
       "Motorbike Chassis                          107      0\n",
       "Plugs                                      106      1\n",
       "Alexa Built-In Devices                     106      1\n",
       "Smart Home Security & Lighting              98      6\n",
       "Smart Speakers                              53      1\n",
       "\n",
       "[296 rows x 2 columns]"
      ]
     },
     "execution_count": 81,
     "metadata": {},
     "output_type": "execute_result"
    }
   ],
   "source": [
    "joined.sort_values(by=['isBestSeller' == True], ascending=False)"
   ]
  },
  {
   "cell_type": "code",
   "execution_count": 141,
   "id": "86dd6898-9bbb-498d-9198-8d733acb5011",
   "metadata": {},
   "outputs": [],
   "source": [
    "# # Plotting a stacked bar chart for the 'crosstab_result' data\n",
    "# relation.plot(kind='bar', stacked=True)\n",
    "# plt.show()"
   ]
  },
  {
   "cell_type": "code",
   "execution_count": null,
   "id": "7f627253-1de3-4d5d-a2d7-c9c814a22552",
   "metadata": {},
   "outputs": [],
   "source": []
  },
  {
   "cell_type": "markdown",
   "id": "bbfd2f3a-20fc-4c58-a150-aabff4e633b3",
   "metadata": {},
   "source": [
    "Difficult to show a huge amount of data (296 rows of data) in to a chart unless you group them in to small peaces.\n",
    "chi.plot.bar(x='category', stacked=True, rot=0);"
   ]
  },
  {
   "cell_type": "markdown",
   "id": "773c1c11-94a1-48d9-8822-91dcbe5db7d5",
   "metadata": {},
   "source": [
    "# Part 2: Exploring Product Prices and Ratings Across Categories and Brands"
   ]
  },
  {
   "cell_type": "markdown",
   "id": "6e0f8fc8-c56a-46b1-b26b-6aba4f6bba6b",
   "metadata": {},
   "source": [
    "Objective: Investigate how different product categories influence product prices."
   ]
  },
  {
   "cell_type": "markdown",
   "id": "cc067f8a-0a16-49bd-abc0-3ec9f67df4b5",
   "metadata": {},
   "source": [
    "## 1. Violin Plots:"
   ]
  },
  {
   "cell_type": "markdown",
   "id": "32910d96-2f4e-4b7a-9f63-a9434f1477d9",
   "metadata": {},
   "source": [
    "Use a violin plot to visualize the distribution of price across different product categories. Filter out the top 20 categories based on count for better visualization."
   ]
  },
  {
   "cell_type": "code",
   "execution_count": 91,
   "id": "ac346ca2-0bbe-46fe-8413-a911cddee512",
   "metadata": {},
   "outputs": [],
   "source": [
    "exp = df.copy()"
   ]
  },
  {
   "cell_type": "code",
   "execution_count": 93,
   "id": "5eb14f88-841d-4d5b-ba81-909b1f3f77ac",
   "metadata": {},
   "outputs": [],
   "source": [
    "def tukeys_test_outliers(exp):\n",
    "    Q1 = exp.quantile(0.25)\n",
    "    Q3 = exp.quantile(0.75)\n",
    "    IQR = Q3 - Q1\n",
    "    \n",
    "    # Define bounds for the outliers\n",
    "    lower_bound = Q1 - 1.5 * IQR\n",
    "    upper_bound = Q3 + 1.5 * IQR\n",
    "    \n",
    "    # Identify the outliers\n",
    "    outliers = exp[(exp < lower_bound) | (exp > upper_bound)]\n",
    "    \n",
    "    return outliers"
   ]
  },
  {
   "cell_type": "code",
   "execution_count": 95,
   "id": "b9a58550-65cb-4e97-8d5e-672083f8e8fa",
   "metadata": {},
   "outputs": [
    {
     "name": "stdout",
     "output_type": "stream",
     "text": [
      "uid\n",
      "11         139.00\n",
      "20         164.99\n",
      "26         149.99\n",
      "29         289.00\n",
      "32         199.99\n",
      "            ...  \n",
      "2828560    166.99\n",
      "2828568    152.58\n",
      "2828579    108.77\n",
      "2828582    166.99\n",
      "2828586    158.99\n",
      "Name: price, Length: 327688, dtype: float64\n"
     ]
    }
   ],
   "source": [
    "data_series = exp['price']  # replace 'ColumnName' with your specific column\n",
    "outliers = tukeys_test_outliers(data_series)\n",
    "print(outliers)"
   ]
  },
  {
   "cell_type": "code",
   "execution_count": 97,
   "id": "ae99d57f-525b-4a5f-9e2b-c0c076ed6e15",
   "metadata": {},
   "outputs": [],
   "source": [
    "topitopi = exp.nlargest(20, 'price')"
   ]
  },
  {
   "cell_type": "code",
   "execution_count": 98,
   "id": "866a835d-05f7-4017-9014-6bb013576540",
   "metadata": {},
   "outputs": [
    {
     "data": {
      "image/png": "[encoded data removed]",
      "text/plain": [
       "<Figure size 640x480 with 1 Axes>"
      ]
     },
     "metadata": {},
     "output_type": "display_data"
    }
   ],
   "source": [
    "sns.violinplot(data=topitopi, x='price', y=\"category\",palette=\"coolwarm\")\n",
    "plt.show()"
   ]
  },
  {
   "cell_type": "markdown",
   "id": "999fb7c5-6d30-4afa-8a50-e1991f82464a",
   "metadata": {},
   "source": [
    "Which product category tends to have the highest median price? Don't filter here by top categories."
   ]
  },
  {
   "cell_type": "code",
   "execution_count": 102,
   "id": "24c99db5-f703-41db-84ba-69c3b9e03bba",
   "metadata": {},
   "outputs": [
    {
     "data": {
      "text/plain": [
       "asin                                                        B0CJSNFYVM\n",
       "title                YXHUI Kids Girls Figure Skating Dress Long Sle...\n",
       "stars                                                              4.3\n",
       "reviews                                                            279\n",
       "price                                                         100000.0\n",
       "isBestSeller                                                     False\n",
       "boughtInLastMonth                                                    0\n",
       "category              Uninterruptible Power Supply Units & Accessories\n",
       "dtype: object"
      ]
     },
     "execution_count": 102,
     "metadata": {},
     "output_type": "execute_result"
    }
   ],
   "source": [
    "topitopi.max(axis=0)"
   ]
  },
  {
   "cell_type": "markdown",
   "id": "3bd7fa16-1f65-4ee3-86eb-1633aab03d12",
   "metadata": {},
   "source": [
    "## 2. Bar Charts"
   ]
  },
  {
   "cell_type": "markdown",
   "id": "fd0d8dfb-676b-43ec-b2cb-ba099c9d2a6f",
   "metadata": {},
   "source": [
    "Create a bar chart comparing the average price of products for the top 10 product categories (based on count)."
   ]
  },
  {
   "cell_type": "code",
   "execution_count": 152,
   "id": "a3e8e580-27bd-41c5-b2e9-9738ccebe685",
   "metadata": {},
   "outputs": [
    {
     "data": {
      "text/html": [
       "<div>\n",
       "<style scoped>\n",
       "    .dataframe tbody tr th:only-of-type {\n",
       "        vertical-align: middle;\n",
       "    }\n",
       "\n",
       "    .dataframe tbody tr th {\n",
       "        vertical-align: top;\n",
       "    }\n",
       "\n",
       "    .dataframe thead th {\n",
       "        text-align: right;\n",
       "    }\n",
       "</style>\n",
       "<table border=\"1\" class=\"dataframe\">\n",
       "  <thead>\n",
       "    <tr style=\"text-align: right;\">\n",
       "      <th></th>\n",
       "      <th>asin</th>\n",
       "      <th>title</th>\n",
       "      <th>stars</th>\n",
       "      <th>reviews</th>\n",
       "      <th>price</th>\n",
       "      <th>isBestSeller</th>\n",
       "      <th>boughtInLastMonth</th>\n",
       "      <th>category</th>\n",
       "    </tr>\n",
       "    <tr>\n",
       "      <th>uid</th>\n",
       "      <th></th>\n",
       "      <th></th>\n",
       "      <th></th>\n",
       "      <th></th>\n",
       "      <th></th>\n",
       "      <th></th>\n",
       "      <th></th>\n",
       "      <th></th>\n",
       "    </tr>\n",
       "  </thead>\n",
       "  <tbody>\n",
       "    <tr>\n",
       "      <th>2259336</th>\n",
       "      <td>B091F5Y3CT</td>\n",
       "      <td>HB FBA Test Treadmill</td>\n",
       "      <td>0.0</td>\n",
       "      <td>0</td>\n",
       "      <td>100000.00</td>\n",
       "      <td>False</td>\n",
       "      <td>0</td>\n",
       "      <td>Sports &amp; Outdoors</td>\n",
       "    </tr>\n",
       "    <tr>\n",
       "      <th>2235317</th>\n",
       "      <td>B0CDVKNBRV</td>\n",
       "      <td>Générique L.A 350° - I5 11400F - RTX 3050 8G -...</td>\n",
       "      <td>0.0</td>\n",
       "      <td>0</td>\n",
       "      <td>77752.00</td>\n",
       "      <td>False</td>\n",
       "      <td>0</td>\n",
       "      <td>Desktop PCs</td>\n",
       "    </tr>\n",
       "    <tr>\n",
       "      <th>2136904</th>\n",
       "      <td>B0CJSNFYVM</td>\n",
       "      <td>Abaodam decor christmas ornaments Desk Ornamen...</td>\n",
       "      <td>0.0</td>\n",
       "      <td>0</td>\n",
       "      <td>24674.59</td>\n",
       "      <td>False</td>\n",
       "      <td>0</td>\n",
       "      <td>Garden Storage &amp; Housing</td>\n",
       "    </tr>\n",
       "    <tr>\n",
       "      <th>1551117</th>\n",
       "      <td>B0CHT331TN</td>\n",
       "      <td>BM4445-FI1-01200R10-03-E03 Driver</td>\n",
       "      <td>0.0</td>\n",
       "      <td>0</td>\n",
       "      <td>23482.73</td>\n",
       "      <td>False</td>\n",
       "      <td>0</td>\n",
       "      <td>Scanners &amp; Accessories</td>\n",
       "    </tr>\n",
       "    <tr>\n",
       "      <th>340285</th>\n",
       "      <td>B0CHYG6MNW</td>\n",
       "      <td>HEDUSA Halloween 3D Holographic Fan 3D Hologra...</td>\n",
       "      <td>0.0</td>\n",
       "      <td>0</td>\n",
       "      <td>22933.42</td>\n",
       "      <td>False</td>\n",
       "      <td>0</td>\n",
       "      <td>Projectors</td>\n",
       "    </tr>\n",
       "    <tr>\n",
       "      <th>1651376</th>\n",
       "      <td>B08M36F6S2</td>\n",
       "      <td>YXHUI Kids Girls Figure Skating Dress Long Sle...</td>\n",
       "      <td>0.0</td>\n",
       "      <td>0</td>\n",
       "      <td>21999.00</td>\n",
       "      <td>False</td>\n",
       "      <td>0</td>\n",
       "      <td>Sports &amp; Outdoors</td>\n",
       "    </tr>\n",
       "    <tr>\n",
       "      <th>1651377</th>\n",
       "      <td>B08M31N65K</td>\n",
       "      <td>YXHUI Kids Girls Figure Skating Dress Long Sle...</td>\n",
       "      <td>0.0</td>\n",
       "      <td>0</td>\n",
       "      <td>21999.00</td>\n",
       "      <td>False</td>\n",
       "      <td>0</td>\n",
       "      <td>Sports &amp; Outdoors</td>\n",
       "    </tr>\n",
       "    <tr>\n",
       "      <th>2138945</th>\n",
       "      <td>B0C8MWJRSH</td>\n",
       "      <td>Outdoor Furniture Wood Porch Swing Black Brown...</td>\n",
       "      <td>0.0</td>\n",
       "      <td>0</td>\n",
       "      <td>21464.82</td>\n",
       "      <td>False</td>\n",
       "      <td>0</td>\n",
       "      <td>Garden Storage &amp; Housing</td>\n",
       "    </tr>\n",
       "    <tr>\n",
       "      <th>2138946</th>\n",
       "      <td>B0C8MVQB8R</td>\n",
       "      <td>Outdoor Furniture Wood Porch Swing Black Brown...</td>\n",
       "      <td>0.0</td>\n",
       "      <td>0</td>\n",
       "      <td>21464.82</td>\n",
       "      <td>False</td>\n",
       "      <td>0</td>\n",
       "      <td>Garden Storage &amp; Housing</td>\n",
       "    </tr>\n",
       "    <tr>\n",
       "      <th>2138947</th>\n",
       "      <td>B0C8MVKYW2</td>\n",
       "      <td>Outdoor Furniture Wood Porch Swing Black Brown...</td>\n",
       "      <td>0.0</td>\n",
       "      <td>0</td>\n",
       "      <td>21464.82</td>\n",
       "      <td>False</td>\n",
       "      <td>0</td>\n",
       "      <td>Garden Storage &amp; Housing</td>\n",
       "    </tr>\n",
       "  </tbody>\n",
       "</table>\n",
       "</div>"
      ],
      "text/plain": [
       "               asin                                              title  stars  \\\n",
       "uid                                                                             \n",
       "2259336  B091F5Y3CT                              HB FBA Test Treadmill    0.0   \n",
       "2235317  B0CDVKNBRV  Générique L.A 350° - I5 11400F - RTX 3050 8G -...    0.0   \n",
       "2136904  B0CJSNFYVM  Abaodam decor christmas ornaments Desk Ornamen...    0.0   \n",
       "1551117  B0CHT331TN                  BM4445-FI1-01200R10-03-E03 Driver    0.0   \n",
       "340285   B0CHYG6MNW  HEDUSA Halloween 3D Holographic Fan 3D Hologra...    0.0   \n",
       "1651376  B08M36F6S2  YXHUI Kids Girls Figure Skating Dress Long Sle...    0.0   \n",
       "1651377  B08M31N65K  YXHUI Kids Girls Figure Skating Dress Long Sle...    0.0   \n",
       "2138945  B0C8MWJRSH  Outdoor Furniture Wood Porch Swing Black Brown...    0.0   \n",
       "2138946  B0C8MVQB8R  Outdoor Furniture Wood Porch Swing Black Brown...    0.0   \n",
       "2138947  B0C8MVKYW2  Outdoor Furniture Wood Porch Swing Black Brown...    0.0   \n",
       "\n",
       "         reviews      price  isBestSeller  boughtInLastMonth  \\\n",
       "uid                                                            \n",
       "2259336        0  100000.00         False                  0   \n",
       "2235317        0   77752.00         False                  0   \n",
       "2136904        0   24674.59         False                  0   \n",
       "1551117        0   23482.73         False                  0   \n",
       "340285         0   22933.42         False                  0   \n",
       "1651376        0   21999.00         False                  0   \n",
       "1651377        0   21999.00         False                  0   \n",
       "2138945        0   21464.82         False                  0   \n",
       "2138946        0   21464.82         False                  0   \n",
       "2138947        0   21464.82         False                  0   \n",
       "\n",
       "                         category  \n",
       "uid                                \n",
       "2259336         Sports & Outdoors  \n",
       "2235317               Desktop PCs  \n",
       "2136904  Garden Storage & Housing  \n",
       "1551117    Scanners & Accessories  \n",
       "340285                 Projectors  \n",
       "1651376         Sports & Outdoors  \n",
       "1651377         Sports & Outdoors  \n",
       "2138945  Garden Storage & Housing  \n",
       "2138946  Garden Storage & Housing  \n",
       "2138947  Garden Storage & Housing  "
      ]
     },
     "execution_count": 152,
     "metadata": {},
     "output_type": "execute_result"
    }
   ],
   "source": [
    "topitopi = exp.nlargest(10, 'price')\n",
    "topitopi"
   ]
  },
  {
   "cell_type": "code",
   "execution_count": 158,
   "id": "63fe3d79-3af9-4b35-9c9f-bae84b79d87b",
   "metadata": {},
   "outputs": [
    {
     "data": {
      "image/png": "[encoded data removed]",
      "text/plain": [
       "<Figure size 640x480 with 1 Axes>"
      ]
     },
     "metadata": {},
     "output_type": "display_data"
    }
   ],
   "source": [
    "sns.barplot(data=topitopi, x=\"price\", y=\"category\")\n",
    "plt.show()"
   ]
  },
  {
   "cell_type": "markdown",
   "id": "936b4e87-3486-4184-99dc-6049e32dadd9",
   "metadata": {},
   "source": [
    "Which product category tends to have the highest average price? Don't filter here by top categories."
   ]
  },
  {
   "cell_type": "markdown",
   "id": "b5a13fa2-6d72-4931-9e62-43ad2be3ab32",
   "metadata": {},
   "source": [
    "Desktop PCs has the highest average price."
   ]
  },
  {
   "cell_type": "markdown",
   "id": "a50eea1e-813f-4159-8017-e4d57fe3efe7",
   "metadata": {},
   "source": [
    "## 3. Box Plots:"
   ]
  },
  {
   "cell_type": "markdown",
   "id": "155bfd79-ea3c-411a-b5de-3b3171b4b656",
   "metadata": {},
   "source": [
    "Visualize the distribution of product ratings based on their category using side-by-side box plots"
   ]
  },
  {
   "cell_type": "code",
   "execution_count": 179,
   "id": "43f4f5ce-d373-4bc8-a2d7-95442720b934",
   "metadata": {},
   "outputs": [],
   "source": [
    "exp = exp[exp['stars']!= 0.0]"
   ]
  },
  {
   "cell_type": "code",
   "execution_count": 187,
   "id": "31ad9afb-f138-47db-9346-0c2b7e785ebc",
   "metadata": {},
   "outputs": [],
   "source": [
    "exp_10 = exp[exp['category'].isin(topitopi['category'])]"
   ]
  },
  {
   "cell_type": "code",
   "execution_count": 189,
   "id": "e62cc61a-fba6-4cd3-a1bc-a8520a861473",
   "metadata": {},
   "outputs": [
    {
     "data": {
      "image/png": "[encoded data removed]",
      "text/plain": [
       "<Figure size 640x480 with 1 Axes>"
      ]
     },
     "metadata": {},
     "output_type": "display_data"
    }
   ],
   "source": [
    "sns.boxplot(data=exp_10, x=\"category\", y=\"stars\", palette=\"coolwarm\")\n",
    "plt.xticks(rotation=90)\n",
    "plt.show()"
   ]
  },
  {
   "cell_type": "markdown",
   "id": "78eedcd9-5805-48c0-b995-e5455b18c8db",
   "metadata": {},
   "source": [
    "Which category tends to receive the highest median rating from customers? Don't filter here by top categories.\n"
   ]
  },
  {
   "cell_type": "code",
   "execution_count": 202,
   "id": "d8ea6359-106b-4d28-9c35-0cdc96fd7c96",
   "metadata": {},
   "outputs": [
    {
     "data": {
      "text/html": [
       "<div>\n",
       "<style scoped>\n",
       "    .dataframe tbody tr th:only-of-type {\n",
       "        vertical-align: middle;\n",
       "    }\n",
       "\n",
       "    .dataframe tbody tr th {\n",
       "        vertical-align: top;\n",
       "    }\n",
       "\n",
       "    .dataframe thead th {\n",
       "        text-align: right;\n",
       "    }\n",
       "</style>\n",
       "<table border=\"1\" class=\"dataframe\">\n",
       "  <thead>\n",
       "    <tr style=\"text-align: right;\">\n",
       "      <th></th>\n",
       "      <th>category</th>\n",
       "      <th>stars</th>\n",
       "    </tr>\n",
       "  </thead>\n",
       "  <tbody>\n",
       "    <tr>\n",
       "      <th>56</th>\n",
       "      <td>Computer Memory</td>\n",
       "      <td>4.7</td>\n",
       "    </tr>\n",
       "    <tr>\n",
       "      <th>25</th>\n",
       "      <td>Beer, Wine &amp; Spirits</td>\n",
       "      <td>4.6</td>\n",
       "    </tr>\n",
       "    <tr>\n",
       "      <th>36</th>\n",
       "      <td>Building &amp; Construction Toys</td>\n",
       "      <td>4.6</td>\n",
       "    </tr>\n",
       "    <tr>\n",
       "      <th>39</th>\n",
       "      <td>CPUs</td>\n",
       "      <td>4.6</td>\n",
       "    </tr>\n",
       "    <tr>\n",
       "      <th>132</th>\n",
       "      <td>Hobbies</td>\n",
       "      <td>4.6</td>\n",
       "    </tr>\n",
       "    <tr>\n",
       "      <th>157</th>\n",
       "      <td>Kids' Play Figures</td>\n",
       "      <td>4.6</td>\n",
       "    </tr>\n",
       "    <tr>\n",
       "      <th>164</th>\n",
       "      <td>Laptop Accessories</td>\n",
       "      <td>4.6</td>\n",
       "    </tr>\n",
       "    <tr>\n",
       "      <th>174</th>\n",
       "      <td>Luxury Food &amp; Drink</td>\n",
       "      <td>4.6</td>\n",
       "    </tr>\n",
       "    <tr>\n",
       "      <th>209</th>\n",
       "      <td>Office Paper Products</td>\n",
       "      <td>4.6</td>\n",
       "    </tr>\n",
       "    <tr>\n",
       "      <th>2</th>\n",
       "      <td>Abrasive &amp; Finishing Products</td>\n",
       "      <td>4.5</td>\n",
       "    </tr>\n",
       "  </tbody>\n",
       "</table>\n",
       "</div>"
      ],
      "text/plain": [
       "                          category  stars\n",
       "56                 Computer Memory    4.7\n",
       "25            Beer, Wine & Spirits    4.6\n",
       "36    Building & Construction Toys    4.6\n",
       "39                            CPUs    4.6\n",
       "132                        Hobbies    4.6\n",
       "157             Kids' Play Figures    4.6\n",
       "164             Laptop Accessories    4.6\n",
       "174            Luxury Food & Drink    4.6\n",
       "209          Office Paper Products    4.6\n",
       "2    Abrasive & Finishing Products    4.5"
      ]
     },
     "execution_count": 202,
     "metadata": {},
     "output_type": "execute_result"
    }
   ],
   "source": [
    "exp.groupby('category')['stars'].median().reset_index().nlargest(10, 'stars')"
   ]
  },
  {
   "cell_type": "markdown",
   "id": "01ca03e0-2a1d-427e-9287-498f6ceaf2c2",
   "metadata": {},
   "source": [
    "computer memory has recived the highest median rating from customers."
   ]
  },
  {
   "cell_type": "code",
   "execution_count": null,
   "id": "bc0d2b0c-a7ec-4625-86e1-b3b2641b7a3c",
   "metadata": {},
   "outputs": [],
   "source": []
  },
  {
   "cell_type": "markdown",
   "id": "982029e6-66fb-432f-8ff6-9c5c86b843a5",
   "metadata": {},
   "source": [
    "# Part 3: Investigating the Interplay Between Product Prices and Ratings"
   ]
  },
  {
   "cell_type": "code",
   "execution_count": 105,
   "id": "c092adf3-1622-4151-a4c5-d66bdae0bcb7",
   "metadata": {},
   "outputs": [],
   "source": [
    "# Objective: Analyze how product ratings (stars) correlate with product prices."
   ]
  },
  {
   "cell_type": "markdown",
   "id": "b9dc07f6-0775-4a87-bfdc-a0a69406b1ee",
   "metadata": {},
   "source": [
    "## 1. Correlation Coefficients:"
   ]
  },
  {
   "cell_type": "markdown",
   "id": "2b08116d-abdc-4fbc-871d-8d99740a2a5e",
   "metadata": {},
   "source": [
    "Calculate the correlation coefficient between price and stars."
   ]
  },
  {
   "cell_type": "code",
   "execution_count": 109,
   "id": "1a3e9e1b-9efe-40e6-92ab-794e496c129a",
   "metadata": {},
   "outputs": [],
   "source": [
    "corre = df.copy()"
   ]
  },
  {
   "cell_type": "code",
   "execution_count": 111,
   "id": "7cca5fda-bffe-4432-b66c-165e207e2f39",
   "metadata": {},
   "outputs": [],
   "source": [
    "e = corre[['price','stars']]"
   ]
  },
  {
   "cell_type": "code",
   "execution_count": 113,
   "id": "d10d977f-78eb-44df-bcac-a232babe6633",
   "metadata": {},
   "outputs": [
    {
     "data": {
      "text/html": [
       "<div>\n",
       "<style scoped>\n",
       "    .dataframe tbody tr th:only-of-type {\n",
       "        vertical-align: middle;\n",
       "    }\n",
       "\n",
       "    .dataframe tbody tr th {\n",
       "        vertical-align: top;\n",
       "    }\n",
       "\n",
       "    .dataframe thead th {\n",
       "        text-align: right;\n",
       "    }\n",
       "</style>\n",
       "<table border=\"1\" class=\"dataframe\">\n",
       "  <thead>\n",
       "    <tr style=\"text-align: right;\">\n",
       "      <th></th>\n",
       "      <th>price</th>\n",
       "      <th>stars</th>\n",
       "    </tr>\n",
       "    <tr>\n",
       "      <th>uid</th>\n",
       "      <th></th>\n",
       "      <th></th>\n",
       "    </tr>\n",
       "  </thead>\n",
       "  <tbody>\n",
       "    <tr>\n",
       "      <th>1</th>\n",
       "      <td>21.99</td>\n",
       "      <td>4.7</td>\n",
       "    </tr>\n",
       "    <tr>\n",
       "      <th>2</th>\n",
       "      <td>23.99</td>\n",
       "      <td>4.7</td>\n",
       "    </tr>\n",
       "    <tr>\n",
       "      <th>3</th>\n",
       "      <td>21.99</td>\n",
       "      <td>4.7</td>\n",
       "    </tr>\n",
       "    <tr>\n",
       "      <th>4</th>\n",
       "      <td>31.99</td>\n",
       "      <td>4.7</td>\n",
       "    </tr>\n",
       "    <tr>\n",
       "      <th>5</th>\n",
       "      <td>17.99</td>\n",
       "      <td>4.6</td>\n",
       "    </tr>\n",
       "  </tbody>\n",
       "</table>\n",
       "</div>"
      ],
      "text/plain": [
       "     price  stars\n",
       "uid              \n",
       "1    21.99    4.7\n",
       "2    23.99    4.7\n",
       "3    21.99    4.7\n",
       "4    31.99    4.7\n",
       "5    17.99    4.6"
      ]
     },
     "execution_count": 113,
     "metadata": {},
     "output_type": "execute_result"
    }
   ],
   "source": [
    "e.head()"
   ]
  },
  {
   "cell_type": "code",
   "execution_count": 115,
   "id": "c321c934-005b-4635-b3f5-74c6f6e07ce0",
   "metadata": {},
   "outputs": [
    {
     "data": {
      "text/html": [
       "<div>\n",
       "<style scoped>\n",
       "    .dataframe tbody tr th:only-of-type {\n",
       "        vertical-align: middle;\n",
       "    }\n",
       "\n",
       "    .dataframe tbody tr th {\n",
       "        vertical-align: top;\n",
       "    }\n",
       "\n",
       "    .dataframe thead th {\n",
       "        text-align: right;\n",
       "    }\n",
       "</style>\n",
       "<table border=\"1\" class=\"dataframe\">\n",
       "  <thead>\n",
       "    <tr style=\"text-align: right;\">\n",
       "      <th></th>\n",
       "      <th>price</th>\n",
       "      <th>stars</th>\n",
       "    </tr>\n",
       "  </thead>\n",
       "  <tbody>\n",
       "    <tr>\n",
       "      <th>price</th>\n",
       "      <td>1.00</td>\n",
       "      <td>-0.12</td>\n",
       "    </tr>\n",
       "    <tr>\n",
       "      <th>stars</th>\n",
       "      <td>-0.12</td>\n",
       "      <td>1.00</td>\n",
       "    </tr>\n",
       "  </tbody>\n",
       "</table>\n",
       "</div>"
      ],
      "text/plain": [
       "       price  stars\n",
       "price   1.00  -0.12\n",
       "stars  -0.12   1.00"
      ]
     },
     "execution_count": 115,
     "metadata": {},
     "output_type": "execute_result"
    }
   ],
   "source": [
    "e.corr().round(2)"
   ]
  },
  {
   "cell_type": "markdown",
   "id": "3d654efe-3999-41a1-8f6e-d0f8416b48be",
   "metadata": {},
   "source": [
    "Is there a significant correlation between product price and its rating?"
   ]
  },
  {
   "cell_type": "markdown",
   "id": "537e3186-6e6d-46eb-940e-69e9f7f396e9",
   "metadata": {},
   "source": [
    "NO"
   ]
  },
  {
   "cell_type": "markdown",
   "id": "4c325b87-be84-4c00-afa6-0b3e99f5e045",
   "metadata": {},
   "source": [
    "## 2. Visualizations"
   ]
  },
  {
   "cell_type": "markdown",
   "id": "341be195-6db8-4db4-8886-0be0614fb3fd",
   "metadata": {},
   "source": [
    "Use a scatter plot to visualize the relationship between product rating and price. What patterns can you observe?"
   ]
  },
  {
   "cell_type": "code",
   "execution_count": 121,
   "id": "9a96eed3-dfcb-4feb-9a0a-94c0f3a5346c",
   "metadata": {},
   "outputs": [
    {
     "data": {
      "image/png": "[encoded data removed]",
      "text/plain": [
       "<Figure size 640x480 with 1 Axes>"
      ]
     },
     "metadata": {},
     "output_type": "display_data"
    }
   ],
   "source": [
    "corre.plot(kind='scatter', x= 'price', y='stars')\n",
    "plt.show()"
   ]
  },
  {
   "cell_type": "markdown",
   "id": "b6f310fa-300f-40e1-9277-e0949372d000",
   "metadata": {},
   "source": [
    "Patterns Observed:\n",
    "\n",
    "Outliers: lower rattings and high price items.\n",
    "\n",
    "Data Concentration: Most of the star ratings are concentrated at the lower price range between approximately 0 and 10000 prices point."
   ]
  },
  {
   "cell_type": "markdown",
   "id": "2939a07a-dad7-4fc5-9222-1759ae78fa3a",
   "metadata": {},
   "source": [
    "#### Use a correlation heatmap to visualize correlations between all numerical variables."
   ]
  },
  {
   "cell_type": "code",
   "execution_count": 124,
   "id": "7869c036-a3e7-4c64-b83b-ec97359ae092",
   "metadata": {},
   "outputs": [
    {
     "name": "stdout",
     "output_type": "stream",
     "text": [
      "<class 'pandas.core.frame.DataFrame'>\n",
      "Index: 2443651 entries, 1 to 2828593\n",
      "Data columns (total 8 columns):\n",
      " #   Column             Dtype  \n",
      "---  ------             -----  \n",
      " 0   asin               object \n",
      " 1   title              object \n",
      " 2   stars              float64\n",
      " 3   reviews            int64  \n",
      " 4   price              float64\n",
      " 5   isBestSeller       bool   \n",
      " 6   boughtInLastMonth  int64  \n",
      " 7   category           object \n",
      "dtypes: bool(1), float64(2), int64(2), object(3)\n",
      "memory usage: 151.5+ MB\n"
     ]
    }
   ],
   "source": [
    "corre.info()"
   ]
  },
  {
   "cell_type": "code",
   "execution_count": 125,
   "id": "5a675464-8657-4dc3-90a5-194591550a24",
   "metadata": {},
   "outputs": [
    {
     "data": {
      "text/html": [
       "<div>\n",
       "<style scoped>\n",
       "    .dataframe tbody tr th:only-of-type {\n",
       "        vertical-align: middle;\n",
       "    }\n",
       "\n",
       "    .dataframe tbody tr th {\n",
       "        vertical-align: top;\n",
       "    }\n",
       "\n",
       "    .dataframe thead th {\n",
       "        text-align: right;\n",
       "    }\n",
       "</style>\n",
       "<table border=\"1\" class=\"dataframe\">\n",
       "  <thead>\n",
       "    <tr style=\"text-align: right;\">\n",
       "      <th></th>\n",
       "      <th>reviews</th>\n",
       "      <th>boughtInLastMonth</th>\n",
       "      <th>price</th>\n",
       "      <th>stars</th>\n",
       "    </tr>\n",
       "    <tr>\n",
       "      <th>uid</th>\n",
       "      <th></th>\n",
       "      <th></th>\n",
       "      <th></th>\n",
       "      <th></th>\n",
       "    </tr>\n",
       "  </thead>\n",
       "  <tbody>\n",
       "    <tr>\n",
       "      <th>1</th>\n",
       "      <td>15308</td>\n",
       "      <td>0</td>\n",
       "      <td>21.99</td>\n",
       "      <td>4.7</td>\n",
       "    </tr>\n",
       "    <tr>\n",
       "      <th>2</th>\n",
       "      <td>98099</td>\n",
       "      <td>0</td>\n",
       "      <td>23.99</td>\n",
       "      <td>4.7</td>\n",
       "    </tr>\n",
       "    <tr>\n",
       "      <th>3</th>\n",
       "      <td>15308</td>\n",
       "      <td>0</td>\n",
       "      <td>21.99</td>\n",
       "      <td>4.7</td>\n",
       "    </tr>\n",
       "    <tr>\n",
       "      <th>4</th>\n",
       "      <td>7205</td>\n",
       "      <td>0</td>\n",
       "      <td>31.99</td>\n",
       "      <td>4.7</td>\n",
       "    </tr>\n",
       "    <tr>\n",
       "      <th>5</th>\n",
       "      <td>1881</td>\n",
       "      <td>0</td>\n",
       "      <td>17.99</td>\n",
       "      <td>4.6</td>\n",
       "    </tr>\n",
       "    <tr>\n",
       "      <th>...</th>\n",
       "      <td>...</td>\n",
       "      <td>...</td>\n",
       "      <td>...</td>\n",
       "      <td>...</td>\n",
       "    </tr>\n",
       "    <tr>\n",
       "      <th>2828589</th>\n",
       "      <td>0</td>\n",
       "      <td>0</td>\n",
       "      <td>22.34</td>\n",
       "      <td>0.0</td>\n",
       "    </tr>\n",
       "    <tr>\n",
       "      <th>2828590</th>\n",
       "      <td>0</td>\n",
       "      <td>0</td>\n",
       "      <td>97.99</td>\n",
       "      <td>0.0</td>\n",
       "    </tr>\n",
       "    <tr>\n",
       "      <th>2828591</th>\n",
       "      <td>0</td>\n",
       "      <td>0</td>\n",
       "      <td>52.99</td>\n",
       "      <td>0.0</td>\n",
       "    </tr>\n",
       "    <tr>\n",
       "      <th>2828592</th>\n",
       "      <td>404</td>\n",
       "      <td>0</td>\n",
       "      <td>79.99</td>\n",
       "      <td>4.3</td>\n",
       "    </tr>\n",
       "    <tr>\n",
       "      <th>2828593</th>\n",
       "      <td>34</td>\n",
       "      <td>0</td>\n",
       "      <td>53.99</td>\n",
       "      <td>4.5</td>\n",
       "    </tr>\n",
       "  </tbody>\n",
       "</table>\n",
       "<p>2443651 rows × 4 columns</p>\n",
       "</div>"
      ],
      "text/plain": [
       "         reviews  boughtInLastMonth  price  stars\n",
       "uid                                              \n",
       "1          15308                  0  21.99    4.7\n",
       "2          98099                  0  23.99    4.7\n",
       "3          15308                  0  21.99    4.7\n",
       "4           7205                  0  31.99    4.7\n",
       "5           1881                  0  17.99    4.6\n",
       "...          ...                ...    ...    ...\n",
       "2828589        0                  0  22.34    0.0\n",
       "2828590        0                  0  97.99    0.0\n",
       "2828591        0                  0  52.99    0.0\n",
       "2828592      404                  0  79.99    4.3\n",
       "2828593       34                  0  53.99    4.5\n",
       "\n",
       "[2443651 rows x 4 columns]"
      ]
     },
     "execution_count": 125,
     "metadata": {},
     "output_type": "execute_result"
    }
   ],
   "source": [
    "num = corre[['reviews','boughtInLastMonth','price','stars']]\n",
    "num"
   ]
  },
  {
   "cell_type": "code",
   "execution_count": 126,
   "id": "60841afc-befe-4e16-92dd-858f2502131c",
   "metadata": {},
   "outputs": [],
   "source": [
    "co = num.corr()"
   ]
  },
  {
   "cell_type": "code",
   "execution_count": 127,
   "id": "51ed4b80-c9a5-4fdd-88e3-5a72f2142316",
   "metadata": {},
   "outputs": [
    {
     "data": {
      "text/html": [
       "<div>\n",
       "<style scoped>\n",
       "    .dataframe tbody tr th:only-of-type {\n",
       "        vertical-align: middle;\n",
       "    }\n",
       "\n",
       "    .dataframe tbody tr th {\n",
       "        vertical-align: top;\n",
       "    }\n",
       "\n",
       "    .dataframe thead th {\n",
       "        text-align: right;\n",
       "    }\n",
       "</style>\n",
       "<table border=\"1\" class=\"dataframe\">\n",
       "  <thead>\n",
       "    <tr style=\"text-align: right;\">\n",
       "      <th></th>\n",
       "      <th>reviews</th>\n",
       "      <th>boughtInLastMonth</th>\n",
       "      <th>price</th>\n",
       "      <th>stars</th>\n",
       "    </tr>\n",
       "  </thead>\n",
       "  <tbody>\n",
       "    <tr>\n",
       "      <th>reviews</th>\n",
       "      <td>1.000000</td>\n",
       "      <td>0.104043</td>\n",
       "      <td>-0.013171</td>\n",
       "      <td>0.085808</td>\n",
       "    </tr>\n",
       "    <tr>\n",
       "      <th>boughtInLastMonth</th>\n",
       "      <td>0.104043</td>\n",
       "      <td>1.000000</td>\n",
       "      <td>-0.023439</td>\n",
       "      <td>0.112536</td>\n",
       "    </tr>\n",
       "    <tr>\n",
       "      <th>price</th>\n",
       "      <td>-0.013171</td>\n",
       "      <td>-0.023439</td>\n",
       "      <td>1.000000</td>\n",
       "      <td>-0.124907</td>\n",
       "    </tr>\n",
       "    <tr>\n",
       "      <th>stars</th>\n",
       "      <td>0.085808</td>\n",
       "      <td>0.112536</td>\n",
       "      <td>-0.124907</td>\n",
       "      <td>1.000000</td>\n",
       "    </tr>\n",
       "  </tbody>\n",
       "</table>\n",
       "</div>"
      ],
      "text/plain": [
       "                    reviews  boughtInLastMonth     price     stars\n",
       "reviews            1.000000           0.104043 -0.013171  0.085808\n",
       "boughtInLastMonth  0.104043           1.000000 -0.023439  0.112536\n",
       "price             -0.013171          -0.023439  1.000000 -0.124907\n",
       "stars              0.085808           0.112536 -0.124907  1.000000"
      ]
     },
     "execution_count": 127,
     "metadata": {},
     "output_type": "execute_result"
    }
   ],
   "source": [
    "co"
   ]
  },
  {
   "cell_type": "code",
   "execution_count": 128,
   "id": "6d03eadc-cf6e-4a0f-9df8-d4cfd6c4cfb9",
   "metadata": {},
   "outputs": [
    {
     "data": {
      "image/png": "[encoded data removed]",
      "text/plain": [
       "<Figure size 640x480 with 2 Axes>"
      ]
     },
     "metadata": {},
     "output_type": "display_data"
    }
   ],
   "source": [
    "sns.heatmap(co, annot=True, cmap=\"RdBu\")\n",
    "plt.title(\"correlation heatmap to visualize correlations between all numerical variables\")\n",
    "plt.show()"
   ]
  },
  {
   "cell_type": "markdown",
   "id": "b299a265-0350-4e70-b4b6-1ef2568bd54d",
   "metadata": {},
   "source": [
    "Examine if product prices typically follow a normal distribution using a QQ plot"
   ]
  },
  {
   "cell_type": "code",
   "execution_count": 130,
   "id": "a163d6f5-c77b-44a1-b299-abd7912bf08b",
   "metadata": {},
   "outputs": [
    {
     "data": {
      "image/png": "[encoded data removed]",
      "text/plain": [
       "<Figure size 640x480 with 1 Axes>"
      ]
     },
     "metadata": {},
     "output_type": "display_data"
    }
   ],
   "source": [
    "import statsmodels.api as sm\n",
    "sm.qqplot(corre['price'], line='s');\n",
    "plt.show()"
   ]
  },
  {
   "cell_type": "code",
   "execution_count": null,
   "id": "9f3e2245-1dc4-4528-92b5-c2ff99a59cf8",
   "metadata": {},
   "outputs": [],
   "source": []
  },
  {
   "cell_type": "code",
   "execution_count": null,
   "id": "2d334044-c8b7-475d-a066-34e7d8fe94dc",
   "metadata": {},
   "outputs": [],
   "source": []
  },
  {
   "cell_type": "code",
   "execution_count": null,
   "id": "30582c20-d7bb-444b-870b-4cb156a69867",
   "metadata": {},
   "outputs": [],
   "source": []
  },
  {
   "cell_type": "code",
   "execution_count": null,
   "id": "9102a188-bd8b-449f-96a5-2159b619bfef",
   "metadata": {},
   "outputs": [],
   "source": []
  }
 ],
 "metadata": {
  "kernelspec": {
   "display_name": "Python 3 (ipykernel)",
   "language": "python",
   "name": "python3"
  },
  "language_info": {
   "codemirror_mode": {
    "name": "ipython",
    "version": 3
   },
   "file_extension": ".py",
   "mimetype": "text/x-python",
   "name": "python",
   "nbconvert_exporter": "python",
   "pygments_lexer": "ipython3",
   "version": "3.12.4"
  }
 },
 "nbformat": 4,
 "nbformat_minor": 5
}
